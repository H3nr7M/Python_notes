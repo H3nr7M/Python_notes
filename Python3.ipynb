{
  "nbformat": 4,
  "nbformat_minor": 0,
  "metadata": {
    "colab": {
      "provenance": [],
      "authorship_tag": "ABX9TyO4ag8yDKuzDC0aW2stNZ7b",
      "include_colab_link": true
    },
    "kernelspec": {
      "name": "python3",
      "display_name": "Python 3"
    },
    "language_info": {
      "name": "python"
    }
  },
  "cells": [
    {
      "cell_type": "markdown",
      "metadata": {
        "id": "view-in-github",
        "colab_type": "text"
      },
      "source": [
        "<a href=\"https://colab.research.google.com/github/H3nr7M/Python_notes/blob/main/Python3.ipynb\" target=\"_parent\"><img src=\"https://colab.research.google.com/assets/colab-badge.svg\" alt=\"Open In Colab\"/></a>"
      ]
    },
    {
      "cell_type": "markdown",
      "source": [
        "#Python\n",
        "We want to present a general purpose programming language, whose expansion and popularity is relatively recent. This is Python, a commitment to simplicity, versatility and speed of development. Next we will see some essential notes of the language, basically extracted from the home page of the language that can be seen at www.python.org"
      ],
      "metadata": {
        "id": "_VUlS9z0bewV"
      }
    }
  ]
}